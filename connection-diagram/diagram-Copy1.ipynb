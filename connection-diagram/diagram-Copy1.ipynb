{
 "cells": [
  {
   "cell_type": "markdown",
   "id": "fe68db5d-e67a-4d3d-895a-5f2f205c68cb",
   "metadata": {},
   "source": [
    "# Connection diagram\n",
    "\n",
    "This is a poster for the 22nd Workshop on Stochastic Geometry, Stereology and Image Analysis.\n",
    "\n",
    "It's about the two-point connectivity problem for points on the boundary of a region in the Boolean model.\n",
    "\n",
    "The picture will be of an ellipse, with two marked points on the boundary, and a path connecting them highlighted (when they're connected by a path)."
   ]
  },
  {
   "cell_type": "code",
   "execution_count": 17,
   "id": "3e6dc40f-951b-4d52-bc40-fba3ebd66421",
   "metadata": {},
   "outputs": [],
   "source": [
    "import numpy as np\n",
    "import matplotlib.pyplot as plt\n",
    "from scipy.spatial import KDTree\n",
    "plt.rcParams['figure.figsize'] = [10,5]\n",
    "import networkx\n",
    "# from PIL import Image, ImageDraw\n",
    "from matplotlib.patches import Ellipse, Circle\n",
    "from tqdm import trange\n",
    "from IPython.display import clear_output"
   ]
  },
  {
   "cell_type": "code",
   "execution_count": 18,
   "id": "ab6804ce-c1d7-4f73-b054-65e7c44b5a76",
   "metadata": {},
   "outputs": [],
   "source": [
    "# All the functions live in here.\n",
    "\n",
    "def sample_in_ellipse(npts, l1=1, l2=1):\n",
    "    \"\"\"\n",
    "    Samples npts iid points uniformly at random in the ellipse with axis lengths 2*l1 and 2*l2.\n",
    "    Speed's not a big issue, so we just use rejection sampling by taking points in [-l1,l1]x[-l2,l2]\n",
    "    \"\"\"\n",
    "    pts = np.random.uniform(size=(npts,2)) # Uniform in [0,1]^2\n",
    "    pts *= np.array([2*l1,2*l2])\n",
    "    pts -= np.array([l1,l2])\n",
    "    for i, p in enumerate(pts):\n",
    "        while ( (p[0]/l1)**2 + (p[1]/l2)**2 > 1 ):\n",
    "            p = np.random.uniform(size=(2)) * np.array([2*l1,2*l2]) - np.array([l1,l2])\n",
    "        pts[i] = p\n",
    "    return pts\n",
    "\n",
    "def get_rgg(points_tree, r):\n",
    "    \"\"\"\n",
    "    Returns the random geometric graph (as a networkx.Graph object)\n",
    "    made from points with two points connected when their distance is less than 2r\n",
    "    (i.e. the RGG version of the Boolean model with this point process).\n",
    "    The vertices are 0, 1, ..., points.shape[0]-1\n",
    "\n",
    "    Again, speed is not a major issue, so we use the crude O(n^2) method of computing adjacency.\n",
    "    Actually it's a bit painfully slow even with a small number of vertices,\n",
    "    so I may use something like a KDTree to speed things up.\n",
    "    \"\"\"\n",
    "    G = networkx.Graph()\n",
    "    G.add_nodes_from(range(points_tree.n))\n",
    "    for i,p in enumerate(points_tree.data):\n",
    "        neighbours = points_tree.query_ball_point(p,2*r)\n",
    "        for j in neighbours:\n",
    "            G.add_edge(i,j)\n",
    "    return G\n",
    "\n",
    "def draw_nopath(points,r,l1,l2,thetax,thetay,rgg):\n",
    "    fig, ax = plt.subplots()\n",
    "    region = Ellipse((0,0),2*l1,2*l2,fill=False,linewidth=2)\n",
    "    ax.add_patch(region)\n",
    "    ax.set_xlim(-l1-0.5,l1+0.5)\n",
    "    ax.set_ylim(-l2-0.5,l2+0.5)\n",
    "    plt.gca().set_aspect(1.0)\n",
    "    plt.axis('off')\n",
    "    circlestyle = {'linewidth':None}\n",
    "    cpt1 = networkx.node_connected_component(rgg,len(points)-2)\n",
    "    cpt2 = networkx.node_connected_component(rgg,len(points)-1)\n",
    "    for i in cpt1:\n",
    "        circle = Circle(points[i],r,color='red',**circlestyle)\n",
    "        ax.add_patch(circle)\n",
    "    for i in cpt2:\n",
    "        circle = Circle(points[i],r,color='green',**circlestyle)\n",
    "        ax.add_patch(circle)\n",
    "    for i in range(len(points)):\n",
    "        if not (i in cpt1 or i in cpt2):\n",
    "            circle = Circle(points[i],r,color='blue',**circlestyle)\n",
    "            ax.add_patch(circle)\n",
    "    # for i in range(len(points)-2):\n",
    "    #     circle = Circle(points[i],r,color='blue')\n",
    "    #     ax.add_patch(circle)\n",
    "    # for i in range(len(points)-2,len(points)):\n",
    "    #     circle = Circle(points[i],r,color='red')\n",
    "    #     ax.add_patch(circle)\n",
    "    return\n",
    "\n",
    "def draw_path(points,r,l1,l2,thetax,thetay,path):\n",
    "    fig, ax = plt.subplots()\n",
    "    region = Ellipse((0,0),2*l1,2*l2,fill=False,linewidth=2)\n",
    "    ax.add_patch(region)\n",
    "    ax.set_xlim(-l1-0.5,l1+0.5)\n",
    "    ax.set_ylim(-l2-0.5,l2+0.5)\n",
    "    plt.gca().set_aspect(1.0)\n",
    "    plt.axis('off')\n",
    "    for i in range(len(points)):\n",
    "        if not i in path:\n",
    "            circle = Circle(points[i],r,color='blue')\n",
    "            ax.add_patch(circle)\n",
    "    for i in path:\n",
    "        circle = Circle(points[i],r,color='red')\n",
    "        ax.add_patch(circle)\n",
    "    return"
   ]
  },
  {
   "cell_type": "markdown",
   "id": "ffa5449e-70f2-4368-a901-3c25430b2a50",
   "metadata": {},
   "source": [
    "## Finding (and drawing) the shortest path from $x$ to $y$\n",
    "\n",
    "Now we can easily (if a bit slowly) create a random geometric graph, we'd like to find the shortest path from $x$ to $y$."
   ]
  },
  {
   "cell_type": "code",
   "execution_count": 19,
   "id": "e6876ba5-5a2b-4f71-9d88-a7bbb31d6bdb",
   "metadata": {},
   "outputs": [
    {
     "name": "stdout",
     "output_type": "stream",
     "text": [
      "With intensity 10000 we have 9931 points.\n"
     ]
    }
   ],
   "source": [
    "# Most of the parameters for the drawing\n",
    "l1 = 2.5\n",
    "l2 = 1\n",
    "thetax = -0.75*np.pi\n",
    "thetay =  0.25*np.pi\n",
    "n = 10000\n",
    "npts = np.random.poisson(lam=n)\n",
    "print(f'With intensity {n} we have {npts} points.')"
   ]
  },
  {
   "cell_type": "code",
   "execution_count": 20,
   "id": "c54341bd-e5ca-4daa-9e45-18308d5f3783",
   "metadata": {},
   "outputs": [],
   "source": [
    "points = sample_in_ellipse(npts,l1,l2)\n",
    "xy = np.array([[l1*np.cos(thetax),l2*np.sin(thetax)], [l1*np.cos(thetay),l2*np.sin(thetay)]])\n",
    "points = np.append(points,xy,axis=0)\n",
    "xindex = npts\n",
    "yindex = npts+1\n",
    "points_tree = KDTree(points)"
   ]
  },
  {
   "cell_type": "code",
   "execution_count": 21,
   "id": "fcf6e4eb-14db-4239-b2a1-e60989580838",
   "metadata": {},
   "outputs": [
    {
     "name": "stdout",
     "output_type": "stream",
     "text": [
      "For n r^2 = 3.460161 we have r = 0.0186\n"
     ]
    }
   ],
   "source": [
    "# r is on its own because we might want to change it more often\n",
    "# The critical intensity is around 1.44\n",
    "intensity = 3.460161\n",
    "r = np.sqrt(intensity / n)\n",
    "print(f'For n r^2 = {intensity} we have r = {r:.4f}')"
   ]
  },
  {
   "cell_type": "code",
   "execution_count": 22,
   "id": "08581df2-e306-45ad-b5c4-427510d32832",
   "metadata": {},
   "outputs": [],
   "source": [
    "# print(f'n pi r^2 = {npts*r*r*np.log(2):.3f}')\n",
    "rgg = get_rgg(points_tree,r)\n",
    "# rgg.nodes[npts]['label'] = 'x'\n",
    "# rgg.nodes[npts+1]['label'] = 'y'"
   ]
  },
  {
   "cell_type": "code",
   "execution_count": 23,
   "id": "4e298c3a-6faf-4265-87b9-cbdede30452e",
   "metadata": {},
   "outputs": [
    {
     "name": "stdout",
     "output_type": "stream",
     "text": [
      "[9931, 8280, 7277, 7780, 1463, 2214, 1617, 1990, 6131, 3687, 1068, 1199, 9417, 6723, 1283, 4781, 2052, 115, 2629, 9709, 4467, 1313, 1291, 4930, 8539, 5994, 3190, 4801, 647, 4019, 7870, 678, 14, 3968, 9681, 6033, 5397, 2078, 865, 6183, 619, 6429, 6411, 660, 6343, 4815, 4690, 6119, 4918, 7904, 4462, 139, 6514, 1644, 5307, 4395, 6837, 8055, 1039, 5453, 2790, 8071, 6969, 5343, 2977, 7404, 4347, 982, 8757, 3507, 632, 491, 1288, 995, 9733, 3028, 399, 242, 8083, 6903, 4795, 9619, 9563, 290, 5800, 7025, 1771, 2163, 6898, 1816, 2311, 324, 2269, 2143, 8291, 741, 9600, 3293, 6598, 3594, 8631, 3346, 3844, 9498, 1387, 2216, 4469, 8655, 236, 6586, 4150, 9361, 2730, 2679, 2344, 470, 5610, 7202, 624, 3501, 254, 261, 5188, 3521, 1221, 6358, 7691, 1299, 1026, 6680, 8175, 6466, 7152, 1685, 1209, 7099, 1395, 1708, 8048, 8520, 4448, 3000, 7207, 467, 7846, 6054, 7212, 4999, 8178, 5228, 1450, 9538, 6582, 3217, 3751, 2444, 5931, 1187, 1396, 1919, 2926, 9932]\n"
     ]
    }
   ],
   "source": [
    "try:\n",
    "    path = networkx.shortest_path(rgg,xindex,yindex)\n",
    "    print(path)\n",
    "    is_path = True\n",
    "except Exception as e:\n",
    "    print(f'No path from x to y at radius {r:.4f}')\n",
    "    is_path = False"
   ]
  },
  {
   "cell_type": "code",
   "execution_count": 24,
   "id": "363a8199-7969-4e7e-8e9e-7a1308ce4685",
   "metadata": {},
   "outputs": [],
   "source": [
    "# if is_path:\n",
    "#     draw_path(points,r,l1,l2,thetax,thetay,path)\n",
    "# else:\n",
    "#     draw_nopath(points,r,l1,l2,thetax,thetay,rgg)"
   ]
  },
  {
   "cell_type": "markdown",
   "id": "6aaa25cc-5f69-4ebb-b700-8b497ac52c8a",
   "metadata": {},
   "source": [
    "### Largest connected component\n",
    "\n",
    "I'd like to colour the largest component separately (all the smaller components can be in the same hue but paler).\n",
    "\n",
    "Also, I'd like to know roughly when $\\theta(\\lambda) = 1/2$, so would like to be able to tell when the size of the largest component is roughly $n/2$."
   ]
  },
  {
   "cell_type": "code",
   "execution_count": 10,
   "id": "5ab91852-70b8-4214-8774-11e904c6cfdd",
   "metadata": {},
   "outputs": [
    {
     "name": "stdout",
     "output_type": "stream",
     "text": [
      "The largest component has 4544 vertices, roughly 46.4 percent of the total vertices.\n"
     ]
    }
   ],
   "source": [
    "largest_comp = max(networkx.connected_components(rgg),key=len)\n",
    "print(f'The largest component has {len(largest_comp)} vertices, roughly {100*len(largest_comp)/npts:.1f} percent of the total vertices.')"
   ]
  },
  {
   "cell_type": "code",
   "execution_count": 11,
   "id": "9a6819d4-c681-4b1b-8c2f-b465b72f2abd",
   "metadata": {
    "jupyter": {
     "source_hidden": true
    }
   },
   "outputs": [],
   "source": [
    "def surveyed():\n",
    "    \"\"\"\n",
    "    Returns a random surveyee.\n",
    "    \"\"\"\n",
    "    options = ['tests', 'customers', 'members of the public', 'Elvis fans',\n",
    "               'happy customers', 'members of the jury',\n",
    "               'experts', 'expert taste-testers']\n",
    "    return np.random.choice(options)"
   ]
  },
  {
   "cell_type": "code",
   "execution_count": 28,
   "id": "d664b672-8ae0-4e85-91fa-c99e5cce93d2",
   "metadata": {},
   "outputs": [],
   "source": [
    "## Quick experiment to find when the largest component contains roughly half the discs\n",
    "## Uncomment and run this bit to reset the experiment\n",
    "target = 0.75\n",
    "lam = 0.38 # Initial guess\n",
    "trial_n = 1000\n",
    "n_trials = 999\n",
    "attempt = 1\n",
    "step_length = 0.01"
   ]
  },
  {
   "cell_type": "code",
   "execution_count": 29,
   "id": "015d6871-083c-4934-b627-9a0de009a682",
   "metadata": {
    "scrolled": true
   },
   "outputs": [
    {
     "name": "stdout",
     "output_type": "stream",
     "text": [
      "lambda = 0.4073617164 is too small, say 425 out of 999 Elvis fans.\n",
      "On average the largest component contained 74.29 percent of vertices.\n",
      "On attempt 80, step size 0.0001250000\n"
     ]
    },
    {
     "name": "stderr",
     "output_type": "stream",
     "text": [
      "                                                                                \r"
     ]
    },
    {
     "ename": "KeyboardInterrupt",
     "evalue": "",
     "output_type": "error",
     "traceback": [
      "\u001b[0;31m---------------------------------------------------------------------------\u001b[0m",
      "\u001b[0;31mKeyboardInterrupt\u001b[0m                         Traceback (most recent call last)",
      "Cell \u001b[0;32mIn[29], line 12\u001b[0m\n\u001b[1;32m     10\u001b[0m mu \u001b[38;5;241m=\u001b[39m trial_n\u001b[38;5;241m/\u001b[39m(np\u001b[38;5;241m.\u001b[39mpi\u001b[38;5;241m*\u001b[39ml1\u001b[38;5;241m*\u001b[39ml2)\n\u001b[1;32m     11\u001b[0m trial_r \u001b[38;5;241m=\u001b[39m np\u001b[38;5;241m.\u001b[39msqrt(lam \u001b[38;5;241m/\u001b[39m mu)\n\u001b[0;32m---> 12\u001b[0m trial_rgg \u001b[38;5;241m=\u001b[39m \u001b[43mget_rgg\u001b[49m\u001b[43m(\u001b[49m\u001b[43mtrial_tree\u001b[49m\u001b[43m,\u001b[49m\u001b[43mtrial_r\u001b[49m\u001b[43m)\u001b[49m\n\u001b[1;32m     13\u001b[0m largest_comp \u001b[38;5;241m=\u001b[39m \u001b[38;5;28mmax\u001b[39m(networkx\u001b[38;5;241m.\u001b[39mconnected_components(trial_rgg),key\u001b[38;5;241m=\u001b[39m\u001b[38;5;28mlen\u001b[39m)\n\u001b[1;32m     14\u001b[0m votes \u001b[38;5;241m+\u001b[39m\u001b[38;5;241m=\u001b[39m (\u001b[38;5;28mlen\u001b[39m(largest_comp)\u001b[38;5;241m/\u001b[39mtrial_npts \u001b[38;5;241m>\u001b[39m target)\n",
      "Cell \u001b[0;32mIn[18], line 31\u001b[0m, in \u001b[0;36mget_rgg\u001b[0;34m(points_tree, r)\u001b[0m\n\u001b[1;32m     29\u001b[0m G\u001b[38;5;241m.\u001b[39madd_nodes_from(\u001b[38;5;28mrange\u001b[39m(points_tree\u001b[38;5;241m.\u001b[39mn))\n\u001b[1;32m     30\u001b[0m \u001b[38;5;28;01mfor\u001b[39;00m i,p \u001b[38;5;129;01min\u001b[39;00m \u001b[38;5;28menumerate\u001b[39m(points_tree\u001b[38;5;241m.\u001b[39mdata):\n\u001b[0;32m---> 31\u001b[0m     neighbours \u001b[38;5;241m=\u001b[39m \u001b[43mpoints_tree\u001b[49m\u001b[38;5;241;43m.\u001b[39;49m\u001b[43mquery_ball_point\u001b[49m\u001b[43m(\u001b[49m\u001b[43mp\u001b[49m\u001b[43m,\u001b[49m\u001b[38;5;241;43m2\u001b[39;49m\u001b[38;5;241;43m*\u001b[39;49m\u001b[43mr\u001b[49m\u001b[43m)\u001b[49m\n\u001b[1;32m     32\u001b[0m     \u001b[38;5;28;01mfor\u001b[39;00m j \u001b[38;5;129;01min\u001b[39;00m neighbours:\n\u001b[1;32m     33\u001b[0m         G\u001b[38;5;241m.\u001b[39madd_edge(i,j)\n",
      "File \u001b[0;32m~/Documents/Presentations/Posters/2024/bad-herrenalb/connection-diagram/venv/lib/python3.11/site-packages/scipy/spatial/_kdtree.py:554\u001b[0m, in \u001b[0;36mKDTree.query_ball_point\u001b[0;34m(self, x, r, p, eps, workers, return_sorted, return_length)\u001b[0m\n\u001b[1;32m    552\u001b[0m \u001b[38;5;28;01mif\u001b[39;00m x\u001b[38;5;241m.\u001b[39mdtype\u001b[38;5;241m.\u001b[39mkind \u001b[38;5;241m==\u001b[39m \u001b[38;5;124m'\u001b[39m\u001b[38;5;124mc\u001b[39m\u001b[38;5;124m'\u001b[39m:\n\u001b[1;32m    553\u001b[0m     \u001b[38;5;28;01mraise\u001b[39;00m \u001b[38;5;167;01mTypeError\u001b[39;00m(\u001b[38;5;124m\"\u001b[39m\u001b[38;5;124mKDTree does not work with complex data\u001b[39m\u001b[38;5;124m\"\u001b[39m)\n\u001b[0;32m--> 554\u001b[0m \u001b[38;5;28;01mreturn\u001b[39;00m \u001b[38;5;28;43msuper\u001b[39;49m\u001b[43m(\u001b[49m\u001b[43m)\u001b[49m\u001b[38;5;241;43m.\u001b[39;49m\u001b[43mquery_ball_point\u001b[49m\u001b[43m(\u001b[49m\n\u001b[1;32m    555\u001b[0m \u001b[43m    \u001b[49m\u001b[43mx\u001b[49m\u001b[43m,\u001b[49m\u001b[43m \u001b[49m\u001b[43mr\u001b[49m\u001b[43m,\u001b[49m\u001b[43m \u001b[49m\u001b[43mp\u001b[49m\u001b[43m,\u001b[49m\u001b[43m \u001b[49m\u001b[43meps\u001b[49m\u001b[43m,\u001b[49m\u001b[43m \u001b[49m\u001b[43mworkers\u001b[49m\u001b[43m,\u001b[49m\u001b[43m \u001b[49m\u001b[43mreturn_sorted\u001b[49m\u001b[43m,\u001b[49m\u001b[43m \u001b[49m\u001b[43mreturn_length\u001b[49m\u001b[43m)\u001b[49m\n",
      "\u001b[0;31mKeyboardInterrupt\u001b[0m: "
     ]
    }
   ],
   "source": [
    "# Run this repeatedly to get better and better estimates\n",
    "while True:\n",
    "    total = 0\n",
    "    votes = 0\n",
    "    # for i in range(n_trials):\n",
    "    for i in trange(n_trials, leave=False):\n",
    "        trial_npts = np.random.poisson(trial_n)\n",
    "        trial_points = sample_in_ellipse(trial_npts,l1,l2)\n",
    "        trial_tree = KDTree(trial_points)\n",
    "        mu = trial_n/(np.pi*l1*l2)\n",
    "        trial_r = np.sqrt(lam / mu)\n",
    "        trial_rgg = get_rgg(trial_tree,trial_r)\n",
    "        largest_comp = max(networkx.connected_components(trial_rgg),key=len)\n",
    "        votes += (len(largest_comp)/trial_npts > target)\n",
    "        total += len(largest_comp)/trial_npts\n",
    "    avg_theta = total / n_trials\n",
    "    clear_output(wait=True)\n",
    "    # if votes > 0.5*n_trials: # If we want to use voting instead of the mean size\n",
    "    if avg_theta > target: # We use this mean, so the majority of votes may disagree\n",
    "        lam -= step_length/attempt\n",
    "        print(f'lambda = {lam:.10f} is too large, say {str(votes)} out of {str(n_trials)} {surveyed()}.')\n",
    "        print(f'On average the largest component contained {100*avg_theta:.2f} percent of vertices.')\n",
    "    else:\n",
    "        lam += step_length/attempt\n",
    "        print(f'lambda = {lam:.10f} is too small, say {str(n_trials-votes)} out of {str(n_trials)} {surveyed()}.')\n",
    "        print(f'On average the largest component contained {100*avg_theta:.2f} percent of vertices.')\n",
    "    print(f'On attempt {attempt}, step size {step_length/attempt:.2e}')\n",
    "    attempt += 1\n",
    "    if attempt > 100:\n",
    "        n_trials = 99"
   ]
  },
  {
   "cell_type": "markdown",
   "id": "c54cbe70-3696-4055-9de0-bc1eea67a9d0",
   "metadata": {},
   "source": [
    "Based on experiments so far, the halfway point happens around $\\lambda \\approx$ `0.36185`.\n",
    "\n",
    "We might want to target different values for $\\theta(\\lambda)$ because $\\theta(\\lambda) = 1/2$ tends to give quite small clusters (in terms of diameter) in a thin ellipse.\n",
    "Here's some values calculated with $n=1000$:\n",
    "| Target $\\theta(\\lambda)$ | Estimated $\\lambda$ | Number of attempts |\n",
    "| :---: | :---: | :---: |\n",
    "| $0.5$  | `0.3618508819` | $60$ |\n",
    "| $0.75$ | `0.4073617164` | $80$ |\n",
    "| $0.9$  | `` | $c$ |"
   ]
  },
  {
   "cell_type": "code",
   "execution_count": null,
   "id": "edd17cd8-4ecf-4ecf-845b-1cd071a2bd33",
   "metadata": {},
   "outputs": [],
   "source": []
  }
 ],
 "metadata": {
  "kernelspec": {
   "display_name": "Python 3 (ipykernel)",
   "language": "python",
   "name": "python3"
  },
  "language_info": {
   "codemirror_mode": {
    "name": "ipython",
    "version": 3
   },
   "file_extension": ".py",
   "mimetype": "text/x-python",
   "name": "python",
   "nbconvert_exporter": "python",
   "pygments_lexer": "ipython3",
   "version": "3.11.2"
  }
 },
 "nbformat": 4,
 "nbformat_minor": 5
}
